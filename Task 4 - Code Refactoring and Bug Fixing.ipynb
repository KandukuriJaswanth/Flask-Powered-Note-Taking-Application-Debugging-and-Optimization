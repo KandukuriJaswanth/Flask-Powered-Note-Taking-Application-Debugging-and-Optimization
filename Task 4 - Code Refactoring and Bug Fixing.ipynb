{
 "cells": [
  {
   "cell_type": "markdown",
   "id": "560f31eb-fb39-460e-a735-ddde343493c3",
   "metadata": {},
   "source": [
    "# **Task 4 -  Code Refactoring and Bug Fixing**\n"
   ]
  },
  {
   "cell_type": "code",
   "execution_count": 2,
   "id": "fcad60e0-7ee6-4dd9-af34-bd31e1507607",
   "metadata": {},
   "outputs": [
    {
     "name": "stdout",
     "output_type": "stream",
     "text": [
      "Requirement already satisfied: flask in d:\\b.tech\\innomatics\\anaconda\\installiz\\lib\\site-packages (3.0.3)\n",
      "Requirement already satisfied: Werkzeug>=3.0.0 in d:\\b.tech\\innomatics\\anaconda\\installiz\\lib\\site-packages (from flask) (3.0.3)\n",
      "Requirement already satisfied: Jinja2>=3.1.2 in d:\\b.tech\\innomatics\\anaconda\\installiz\\lib\\site-packages (from flask) (3.1.4)\n",
      "Requirement already satisfied: itsdangerous>=2.1.2 in d:\\b.tech\\innomatics\\anaconda\\installiz\\lib\\site-packages (from flask) (2.2.0)\n",
      "Requirement already satisfied: click>=8.1.3 in d:\\b.tech\\innomatics\\anaconda\\installiz\\lib\\site-packages (from flask) (8.1.7)\n",
      "Requirement already satisfied: blinker>=1.6.2 in d:\\b.tech\\innomatics\\anaconda\\installiz\\lib\\site-packages (from flask) (1.6.2)\n",
      "Requirement already satisfied: colorama in d:\\b.tech\\innomatics\\anaconda\\installiz\\lib\\site-packages (from click>=8.1.3->flask) (0.4.6)\n",
      "Requirement already satisfied: MarkupSafe>=2.0 in d:\\b.tech\\innomatics\\anaconda\\installiz\\lib\\site-packages (from Jinja2>=3.1.2->flask) (2.1.3)\n",
      "Note: you may need to restart the kernel to use updated packages.\n"
     ]
    }
   ],
   "source": [
    "pip install flask\n"
   ]
  },
  {
   "cell_type": "code",
   "execution_count": 6,
   "id": "ab4022b4-07c3-4ac2-a4dc-ff296d3f5c92",
   "metadata": {},
   "outputs": [
    {
     "name": "stdout",
     "output_type": "stream",
     "text": [
      " * Serving Flask app '__main__'\n",
      " * Debug mode: off\n"
     ]
    },
    {
     "name": "stderr",
     "output_type": "stream",
     "text": [
      "WARNING: This is a development server. Do not use it in a production deployment. Use a production WSGI server instead.\n",
      " * Running on http://127.0.0.1:5000\n",
      "Press CTRL+C to quit\n",
      "127.0.0.1 - - [05/Mar/2025 16:51:12] \"GET / HTTP/1.1\" 200 -\n",
      "127.0.0.1 - - [05/Mar/2025 16:51:17] \"POST / HTTP/1.1\" 200 -\n",
      "127.0.0.1 - - [05/Mar/2025 16:51:23] \"POST / HTTP/1.1\" 200 -\n",
      "127.0.0.1 - - [05/Mar/2025 16:51:40] \"POST / HTTP/1.1\" 200 -\n"
     ]
    }
   ],
   "source": [
    "from flask import Flask, render_template_string, request\n",
    "import threading\n",
    "\n",
    "app = Flask(__name__)\n",
    "\n",
    "# Store notes\n",
    "notes = []\n",
    "\n",
    "@app.route('/', methods=['GET', 'POST'])\n",
    "def home():\n",
    "    if request.method == 'POST':\n",
    "        note = request.form.get('note')\n",
    "        if note and note.strip():\n",
    "            notes.append(note.strip())\n",
    "    return render_template_string('''\n",
    "        <html>\n",
    "        <body>\n",
    "            <h1>Note Taking App</h1>\n",
    "            <form method=\"POST\">\n",
    "                <input type=\"text\" name=\"note\" placeholder=\"Enter your note\" required>\n",
    "                <button type=\"submit\">Add Note</button>\n",
    "            </form>\n",
    "            <h2>Notes:</h2>\n",
    "            <ul>\n",
    "                {% for note in notes %}\n",
    "                    <li>{{ note }}</li>\n",
    "                {% endfor %}\n",
    "            </ul>\n",
    "        </body>\n",
    "        </html>\n",
    "    ''', notes=notes)\n",
    "\n",
    "def run_app():\n",
    "    app.run(port=5000)\n",
    "\n",
    "# Run Flask in a separate thread\n",
    "thread = threading.Thread(target=run_app)\n",
    "thread.start()\n"
   ]
  },
  {
   "cell_type": "markdown",
   "id": "cf580270-9256-43af-9b15-528d228afe31",
   "metadata": {},
   "source": [
    "# **Conclusion**\n",
    "# The Note-Taking Application has been successfully debugged and optimized, ensuring full functionality and an improved user experience. Key issues, including form validation, form resubmission errors, and data handling inconsistencies, have been effectively resolved. These enhancements have significantly improved the application's reliability and usability. Future improvements may include database integration for persistent storage, user authentication, and advanced formatting options for notes."
   ]
  }
 ],
 "metadata": {
  "kernelspec": {
   "display_name": "Python 3 (ipykernel)",
   "language": "python",
   "name": "python3"
  },
  "language_info": {
   "codemirror_mode": {
    "name": "ipython",
    "version": 3
   },
   "file_extension": ".py",
   "mimetype": "text/x-python",
   "name": "python",
   "nbconvert_exporter": "python",
   "pygments_lexer": "ipython3",
   "version": "3.12.4"
  }
 },
 "nbformat": 4,
 "nbformat_minor": 5
}
